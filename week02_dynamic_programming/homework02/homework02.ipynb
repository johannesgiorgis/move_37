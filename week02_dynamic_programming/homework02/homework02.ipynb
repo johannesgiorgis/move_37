{
 "cells": [
  {
   "cell_type": "markdown",
   "metadata": {},
   "source": [
    "# Homework Assignment Week 2\n",
    "\n",
    "This week’s homework assignment is to code either value iteration or policy iteration in a unique OpenAI Gym environment. Have it run until it converges to an optimal policy for whatever environment you use! Use this [Github](https://github.com/aaksham/frozenlake) link as a starting point.\n",
    "\n",
    "Share your results on Twitter/Facebook/Instagram using the hashtag #move37 ! – Siraj"
   ]
  },
  {
   "cell_type": "markdown",
   "metadata": {},
   "source": [
    "### import libraries"
   ]
  },
  {
   "cell_type": "code",
   "execution_count": 1,
   "metadata": {},
   "outputs": [],
   "source": [
    "# import necessary libraries\n",
    "import numpy as np\n",
    "import gym\n",
    "import time"
   ]
  },
  {
   "cell_type": "markdown",
   "metadata": {},
   "source": [
    "### common functions"
   ]
  },
  {
   "cell_type": "code",
   "execution_count": 39,
   "metadata": {},
   "outputs": [],
   "source": [
    "# Executes an episode\n",
    "def execute(env, policy, gamma=0.1):\n",
    "    start = env.reset()\n",
    "    total_reward = 0\n",
    "    step_index = 0\n",
    "    while True:\n",
    "        start, reward, done, _ = env.step(int(policy[start]))\n",
    "        total_reward += (gamma ** step_index * reward)\n",
    "        step_index += 1\n",
    "        if done:\n",
    "            break\n",
    "    return total_reward\n",
    "\n",
    "\n",
    "# Evaluates a policy by running it n times. returns: average total reward\n",
    "def evaluatePolicy(env, policy, gamma=1.0, n=100):\n",
    "    scores = [\n",
    "        execute(env, policy, gamma=gamma)\n",
    "        for _ in range(n)\n",
    "    ]\n",
    "    return np.mean(scores)\n",
    "\n",
    "\n",
    "# Get Policy\n",
    "def getPolicy(env, v, gamma=1.0):\n",
    "    policy = np.zeros(env.env.nS)\n",
    "    for s in range(env.env.nS):\n",
    "        q_sa = np.zeros(env.env.nA)\n",
    "        for a in range(env.env.nA):\n",
    "            q_sa[a] = sum(\n",
    "                [p * (r + gamma * v[s_])\n",
    "                 for p, s_, r, _ in env.env.P[s][a]\n",
    "                ]\n",
    "            )\n",
    "        policy[s] = np.argmax(q_sa)\n",
    "    return policy"
   ]
  },
  {
   "cell_type": "markdown",
   "metadata": {},
   "source": [
    "### value iteration algorithm"
   ]
  },
  {
   "cell_type": "code",
   "execution_count": 45,
   "metadata": {},
   "outputs": [],
   "source": [
    "# Value Iteration Algorithm\n",
    "def valueIteration(env, gamma=1.0):\n",
    "    value = np.zeros(env.env.nS) # initialize value-function\n",
    "    max_iterations = 10000\n",
    "    eps = 1e-20\n",
    "    \n",
    "    for i in range(max_iterations):\n",
    "        previous_value = np.copy(value)\n",
    "        for s in range(env.env.nS):\n",
    "            q_sa = [\n",
    "                sum([p * (r + previous_value[s_])\n",
    "                     for p, s_, r, _ in env.env.P[s][a]\n",
    "                    ]\n",
    "                )\n",
    "                for a in range(env.env.nA)\n",
    "            ]\n",
    "            value[s] = max(q_sa)\n",
    "        diff = np.sum(np.fabs(previous_value - value))\n",
    "        if diff <= eps:\n",
    "            print('Value-iteration converged at # {}.'.format(i + 1)) \n",
    "            break\n",
    "    return value\n",
    "\n",
    "\n",
    "# Run Value Iteration\n",
    "def run_value_iteration(env, gamma=1.0):\n",
    "    start_time = time.time()\n",
    "    optimal_value = valueIteration(env, gamma=gamma)\n",
    "    # choose the policy given a value-function\n",
    "    policy = getPolicy(env, optimal_value, gamma=gamma)\n",
    "    policy_score = evaluatePolicy(env, policy, gamma=gamma, n=1000)\n",
    "    end_time = time.time()\n",
    "    print(\"Best score = {:0.2f}. Time taken = {:4.4f} seconds\".format(np.mean(policy_score), end_time - start_time))"
   ]
  },
  {
   "cell_type": "markdown",
   "metadata": {},
   "source": [
    "### policy iteration algorithm"
   ]
  },
  {
   "cell_type": "code",
   "execution_count": 46,
   "metadata": {},
   "outputs": [],
   "source": [
    "# iteratively calculates the Value-Function under Policy\n",
    "def calculatePolicyValue(env, policy, gamma=1.0):\n",
    "    value = np.zeros(env.env.nS)\n",
    "    eps = 1e-10\n",
    "    \n",
    "    while True:\n",
    "        previous_value = np.copy(value)\n",
    "        for state in range(env.env.nS):\n",
    "            policy_action = policy[state]\n",
    "            value[state] = sum([p * (r + gamma * previous_value[s_])\n",
    "                                for p, s_, r, _ in env.env.P[state][policy_action]]\n",
    "                              )\n",
    "        diff = np.sum(np.fabs(previous_value - value))\n",
    "        if diff <= eps:\n",
    "            # value converged\n",
    "            break\n",
    "    return value\n",
    "\n",
    "\n",
    "# Policy Iteration Algorithm\n",
    "def policyIteration(env, gamma=1.0):\n",
    "    policy = np.random.choice(env.env.nA, size=(env.env.nS)) # initialize a random policy\n",
    "    max_iterations = 1000\n",
    "    \n",
    "    for i in range(max_iterations):\n",
    "        old_policy_value = calculatePolicyValue(env, policy, gamma)\n",
    "        # extract the policy given a value-function\n",
    "        new_policy = getPolicy(env, old_policy_value, gamma)\n",
    "        if (np.all(policy == new_policy)):\n",
    "            print('Policy Iteration converged at {}'.format(i + 1))\n",
    "            break\n",
    "        policy = new_policy\n",
    "    return policy\n",
    "\n",
    "\n",
    "# Run Policy Iteration\n",
    "def run_policy_iteration(env, gamma=1.0):\n",
    "    start_time = time.time()\n",
    "    optimal_policy = policyIteration(env, gamma=gamma)\n",
    "    scores = evaluatePolicy(env, optimal_policy, gamma=gamma)\n",
    "    end_time = time.time()\n",
    "    print(\"Best score = {:0.2f}. Time taken = {:4.4f} seconds\".format(np.max(scores), end_time - start_time))"
   ]
  },
  {
   "cell_type": "markdown",
   "metadata": {},
   "source": [
    "### main"
   ]
  },
  {
   "cell_type": "code",
   "execution_count": 22,
   "metadata": {},
   "outputs": [],
   "source": [
    "env = gym.make('FrozenLake-v0')\n",
    "gamma = 1.0"
   ]
  },
  {
   "cell_type": "code",
   "execution_count": 32,
   "metadata": {},
   "outputs": [
    {
     "name": "stdout",
     "output_type": "stream",
     "text": [
      "Value-iteration converged at # 1373.\n",
      "Best score = 0.74. Time taken = 0.5040 seconds\n"
     ]
    }
   ],
   "source": [
    "# run value iteration\n",
    "run_value_iteration(env, gamma)"
   ]
  },
  {
   "cell_type": "code",
   "execution_count": 33,
   "metadata": {},
   "outputs": [
    {
     "name": "stdout",
     "output_type": "stream",
     "text": [
      "Policy Iteration converged at 4\n",
      "Best score = 0.76. Time taken = 0.1283 seconds\n"
     ]
    }
   ],
   "source": [
    "# run policy iteration\n",
    "run_policy_iteration(env, gamma)"
   ]
  },
  {
   "cell_type": "markdown",
   "metadata": {},
   "source": [
    "---\n",
    "Created common function **getPolicy()** and edited both VI & PI Algorithms to utilize that function instead of **calculatePolicy** and **extractPolicy()** respectively."
   ]
  },
  {
   "cell_type": "code",
   "execution_count": 47,
   "metadata": {},
   "outputs": [],
   "source": [
    "env = gym.make('FrozenLake-v0')\n",
    "gamma = 1.0"
   ]
  },
  {
   "cell_type": "code",
   "execution_count": 48,
   "metadata": {},
   "outputs": [
    {
     "name": "stdout",
     "output_type": "stream",
     "text": [
      "Value-iteration converged at # 1373.\n",
      "Best score = 0.74. Time taken = 0.5069 seconds\n"
     ]
    }
   ],
   "source": [
    "# run value iteration\n",
    "run_value_iteration(env, gamma)"
   ]
  },
  {
   "cell_type": "code",
   "execution_count": 54,
   "metadata": {},
   "outputs": [
    {
     "name": "stdout",
     "output_type": "stream",
     "text": [
      "Policy Iteration converged at 4\n",
      "Best score = 0.76. Time taken = 0.1373 seconds\n"
     ]
    }
   ],
   "source": [
    "# run policy iteration\n",
    "run_policy_iteration(env, gamma)"
   ]
  },
  {
   "cell_type": "code",
   "execution_count": null,
   "metadata": {},
   "outputs": [],
   "source": []
  }
 ],
 "metadata": {
  "kernelspec": {
   "display_name": "Python 3",
   "language": "python",
   "name": "python3"
  },
  "language_info": {
   "codemirror_mode": {
    "name": "ipython",
    "version": 3
   },
   "file_extension": ".py",
   "mimetype": "text/x-python",
   "name": "python",
   "nbconvert_exporter": "python",
   "pygments_lexer": "ipython3",
   "version": "3.6.6"
  }
 },
 "nbformat": 4,
 "nbformat_minor": 2
}
