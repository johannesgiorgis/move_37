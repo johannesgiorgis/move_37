{
 "cells": [
  {
   "cell_type": "markdown",
   "metadata": {},
   "source": [
    "# Homework Assignment Week 3 - Monte Carlo\n",
    "\n",
    "This weeks homework is to apply a Monte Carlo technique in a unique OpenAI Gym environment (not blackjack). The different Monte Carlo techniques are detailed [here](https://oneraynyday.github.io/ml/2018/05/24/Reinforcement-Learning-Monte-Carlo/#example-cliff-walking).\n",
    "\n",
    "Write a Medium blog post about your experience implementing the algorithm and what you learned. And (optionally) share your post on Twitter with the #move37 hashtag!  Siraj Raval."
   ]
  },
  {
   "cell_type": "markdown",
   "metadata": {},
   "source": [
    "### Monte Carlo GLIE: 2\n",
    "Applied to Taxi-v2 environment"
   ]
  },
  {
   "cell_type": "code",
   "execution_count": 6,
   "metadata": {
    "scrolled": true
   },
   "outputs": [],
   "source": [
    "# import necessary libraries\n",
    "import gym\n",
    "from gym import wrappers\n",
    "import numpy as np\n",
    "import pandas as pd\n",
    "import time\n",
    "\n",
    "\n",
    "# Helper Functions\n",
    "def update_report(report):\n",
    "    '''\n",
    "    Calculates training metrics and stores them in a pandas dataframe\n",
    "    '''\n",
    "    r = report\n",
    "    r['last_avg_episode_score'] - r['avg_episode_score']\n",
    "    r['avg_episode_score'] = sum(r['episode_reward_list']) / r['episode_window']\n",
    "    \n",
    "    # calculate delta\n",
    "    delta = r['avg_episode_score'] - r['last_avg_episode_score']\n",
    "    \n",
    "    print(\n",
    "        f\"K episodes: {r['k_episodes']:>8.3f} \"\n",
    "        f\"Average Episode Score: {r['avg_episode_score']:>10.3f} \"\n",
    "        f\"Delta: {delta:>10.3f} \"\n",
    "        f\"Epsilon: {r['epsilon']:>10.3f} \"\n",
    "    )\n",
    "    \n",
    "    # add to dataframe\n",
    "    r['df'].loc[r['df_index']] = [\n",
    "        r['k_episodes'],\n",
    "        r['avg_episode_score'],\n",
    "        delta,\n",
    "        r['epsilon']\n",
    "    ]\n",
    "    \n",
    "    r['df_index'] += 1\n",
    "    \n",
    "    # re-initialize rewards_list - allows us to only capture last\n",
    "    # episode_window runs\n",
    "    r['episode_reward_list'] = []\n",
    "    \n",
    "\n",
    "    \n",
    "def get_epsilon(i, target_epsilon, num_episodes):\n",
    "    '''\n",
    "    Creates a function that changes the value of epsilon over time\n",
    "    '''\n",
    "    # allow us to test last 5% to see how much training it has done\n",
    "    if i > num_episodes * 0.94:\n",
    "        return 0.0\n",
    "    else:\n",
    "        return 0.3 * (1 - (i / num_episodes)) + target_epsilon\n",
    "\n",
    "\n",
    "\n",
    "# Main\n",
    "def main(num_episodes=10000, target_epsilon=0.2, episode_window=1000):\n",
    "    start_time = time.time()\n",
    "    \n",
    "    # create our environment\n",
    "    env = gym.make(\"Taxi-v2\")\n",
    "    #env = wrappers.Monitor(env, \"./results\", force=True)\n",
    "\n",
    "    # initialize the action value function Q(s, a),\n",
    "    # and a counter function N(s, a)\n",
    "    Q = np.zeros([env.observation_space.n, env.action_space.n])\n",
    "    n_s_a = np.zeros([env.observation_space.n, env.action_space.n])\n",
    "\n",
    "    # initialize report\n",
    "    labels = ['k episodes', 'Average Total Score', 'Delta', 'Epsilon']\n",
    "    report = {\n",
    "        'episode_reward_list': [],\n",
    "        'avg_episode_score': 0,              # average episode score per episode interval\n",
    "        'last_avg_episode_score': 0,\n",
    "        'df': pd.DataFrame(columns=labels),\n",
    "        'df_index': 0,\n",
    "        'episode_window': episode_window,\n",
    "    }\n",
    "    \n",
    "    # set df labels type\n",
    "    report['df'][labels] = report['df'][labels].astype(float)\n",
    "    \n",
    "    \n",
    "    for i in range(num_episodes + 1):\n",
    "        \n",
    "        state = env.reset()\n",
    "        done = False\n",
    "        results_list = []\n",
    "        episode_reward = 0\n",
    "        \n",
    "        while not done:\n",
    "            if np.random.rand() < target_epsilon:\n",
    "                action = env.action_space.sample()\n",
    "            else:\n",
    "                action = np.argmax(Q[state, :])\n",
    "            new_state, step_reward, done, _ = env.step(action)\n",
    "            results_list.append((state, action))\n",
    "            episode_reward += step_reward\n",
    "            state = new_state\n",
    "            #r_all += reward\n",
    "        \n",
    "        report['episode_reward_list'].append(episode_reward)\n",
    "        \n",
    "        for (state, action) in results_list:\n",
    "            n_s_a[state, action] += 1.0\n",
    "            alpha = 1.0 / n_s_a[state, action]\n",
    "            Q[state, action] += alpha * (episode_reward - Q[state, action])\n",
    "        \n",
    "        if i % report['episode_window'] == 0 and i is not 0:\n",
    "            report['k_episodes'] = i / 1000.0\n",
    "            report['epsilon'] = get_epsilon(i,\n",
    "                                            target_epsilon, \n",
    "                                            num_episodes)\n",
    "            \n",
    "            # update report\n",
    "            update_report(report)\n",
    "    \n",
    "    # close environment\n",
    "    env.close()\n",
    "    \n",
    "    # calculate run time\n",
    "    end_time = time.time()\n",
    "    run_time = end_time - start_time\n",
    "    print(f\"Time taken: {run_time:10.2f} seconds\")\n",
    "    return report['df'], run_time"
   ]
  },
  {
   "cell_type": "markdown",
   "metadata": {},
   "source": [
    "### Episodes: 10000 Target_epsilon=0.2"
   ]
  },
  {
   "cell_type": "code",
   "execution_count": 7,
   "metadata": {},
   "outputs": [
    {
     "name": "stdout",
     "output_type": "stream",
     "text": [
      "K episodes:    1.000 Average Episode Score:   -442.717 Delta:   -442.717 Epsilon:      0.470 \n",
      "K episodes:    2.000 Average Episode Score:   -324.483 Delta:   -324.483 Epsilon:      0.440 \n",
      "K episodes:    3.000 Average Episode Score:   -315.171 Delta:   -315.171 Epsilon:      0.410 \n",
      "K episodes:    4.000 Average Episode Score:   -318.417 Delta:   -318.417 Epsilon:      0.380 \n",
      "K episodes:    5.000 Average Episode Score:   -313.413 Delta:   -313.413 Epsilon:      0.350 \n",
      "K episodes:    6.000 Average Episode Score:   -303.440 Delta:   -303.440 Epsilon:      0.320 \n",
      "K episodes:    7.000 Average Episode Score:   -297.103 Delta:   -297.103 Epsilon:      0.290 \n",
      "K episodes:    8.000 Average Episode Score:   -304.983 Delta:   -304.983 Epsilon:      0.260 \n",
      "K episodes:    9.000 Average Episode Score:   -295.856 Delta:   -295.856 Epsilon:      0.230 \n",
      "K episodes:   10.000 Average Episode Score:   -280.838 Delta:   -280.838 Epsilon:      0.000 \n",
      "Time taken:      43.18 seconds\n",
      "Data Frame Size: (10, 4)\n"
     ]
    }
   ],
   "source": [
    "num_episodes = 10000\n",
    "target_epsilon = 0.2 # Epsilon controls the probability of taking a random action vs following policy\n",
    "\n",
    "df, run_time = main(num_episodes=num_episodes, target_epsilon=target_epsilon)\n",
    "print(f'Data Frame Size: {df.shape}')"
   ]
  },
  {
   "cell_type": "code",
   "execution_count": 3,
   "metadata": {
    "scrolled": true
   },
   "outputs": [
    {
     "data": {
      "image/png": "[encoded data removed]",
      "text/plain": [
       "<Figure size 432x288 with 1 Axes>"
      ]
     },
     "metadata": {
      "needs_background": "light"
     },
     "output_type": "display_data"
    }
   ],
   "source": [
    "# Plot Epsilon\n",
    "num_episodes = 10000\n",
    "target_epsilon = 0.2\n",
    "\n",
    "def calculate_epsilon(i, num_episodes, target_epsilon):\n",
    "    return 0.3 * (1 - (i / num_episodes)) + target_epsilon\n",
    "\n",
    "iterations = [i for i in range(num_episodes + 1)]\n",
    "epsilons = [calculate_epsilon(i, num_episodes, target_epsilon)\n",
    "           for i in range(num_episodes + 1)]\n",
    "\n",
    "plt.plot(iterations, epsilons)\n",
    "plt.title('Epsilon over Time')\n",
    "plt.ylabel('Epsilon')\n",
    "plt.xlabel('Iterations')\n",
    "plt.show()"
   ]
  },
  {
   "cell_type": "markdown",
   "metadata": {},
   "source": [
    "---"
   ]
  },
  {
   "cell_type": "markdown",
   "metadata": {},
   "source": [
    "# Report"
   ]
  },
  {
   "cell_type": "markdown",
   "metadata": {},
   "source": [
    "### Introduction\n",
    "For assignment 3 of Move 37, we had to apply a Monte Carlo technique to a unique [OpenAI Gym environment][openai-gym-envs] other than Blackjack.\n",
    "\n",
    "For this assignment, I collaborated with [Andrew Key][ak github]. Here is a link to [Andrew Key's Colab][colab-link], which contains some awesome plots, including a heatmap of the untrained and trained Q-Functions.\n",
    "\n",
    "We chose to apply the Monte Carlo GLIE learning policy to the [Taxi-v2 Environment][openai-gym-taxi-v2] for this assignment. We started off with this [code][original code], which applies Monte Carlo GLIE to the [FrozenLake-v0 environment][openai-gym-frozenlake-v0].\n",
    "\n",
    "\n",
    "### Taxi-v2 Environment Details\n",
    "\n",
    "In the **Taxi-v2** environment, there are 4 destination locations in the grid world. At the start of an episode, the taxi and passenger start off at random locations. The taxi drives to the passenger's location, picks up the passenger, then drives to the passenger's destination and drops off the passenger. Once the passenger is dropped off, the episode ends.\n",
    "\n",
    "During our testing, we discovered that an episode also ended at the 200 timestep even if it failed to drop off the passenger correctly. This is shown in the log output sample below, where we have extracted all the instances where done is True, indicating an episode's completion:\n",
    "\n",
    "``` \n",
    "$ cat taxi_v2.log | grep -n 'True'  \n",
    "202:New State:334|Reward:-1|done?:True|_:{'prob': 1.0}  \n",
    "402:New State:468|Reward:-10|done?:True|_:{'prob': 1.0}  \n",
    "602:New State:446|Reward:-1|done?:True|_:{'prob': 1.0}  \n",
    "802:New State:476|Reward:-1|done?:True|_:{'prob': 1.0}  \n",
    "1002:New State:451|Reward:-10|done?:True|_:{'prob': 1.0}  \n",
    "1202:New State:452|Reward:-1|done?:True|_:{'prob': 1.0}  \n",
    "1402:New State:421|Reward:-1|done?:True|_:{'prob': 1.0}  \n",
    "```\n",
    "\n",
    "\n",
    "### Monte Carlo GLIE\n",
    "[Monte Carlo methods][wiki-monte-carlo] are a family of computation algorithms that rely on repeated random sampling to obtain numerical results. The essential idea is to use randomness to solve problems that might be deterministic in principle. In the context of Reinforcement Learning, they are used for Model-Free Learning, which learns from experience. This approach is used when we don't have perfect knowledge about the environment - no rewards function or transition probabilities are known ahead of time. So our agent has to discover these values through trial and error, e.g. experience. \n",
    "\n",
    "There are several types of Monte Carlo methods at our disposal for Reinforcement Learning. GLIE, which stands for Greedy in the Limit with Infinite Exploration is one such learning policy. A GLIE learning policy satisfies the following two properties:\n",
    "\n",
    "- Exploration should continue indefinitely\n",
    "- The probability of exploration ($\\epsilon$) should decrease over time\n",
    "\n",
    "\n",
    "### Reward Evaluation\n",
    "Initially we were dividing the $total\\_rewards$ at time $t$ by the number of episodes at time $t$. This comprehensive average was not helpful when determining whether progress was being made. So, instead we focused on a single episode window and found that the average reward for that episode window was a more informative metric.\n",
    "\n",
    "To evaluate that our agent was learning, we used the following reward equation:\n",
    "\n",
    "$$ reward = \\frac{total\\_rewards}{episode\\_window} $$\n",
    "\n",
    "where:\n",
    "- $episode\\_window$ is the number of episodes between report entries\n",
    "- $total\\_rewards$ is below:\n",
    "\n",
    "$$ total\\_rewards = \\sum_{i=s}^{t} episode\\_reward_i $$\n",
    "\n",
    "where:\n",
    "- $t$ is the current episode\n",
    "- $s$ is $ t - episode\\_window $\n",
    "- $episode\\_reward$ is the sum of all $step\\_reward$s within an episode\n",
    "\n",
    "### Epsilon\n",
    "For the first 95\\% that we trained the Q-Function, $ \\epsilon $ was calculated with the following equation:\n",
    "\n",
    "$$ \\epsilon = 0.3 * (1 - \\frac{i}{num\\_episodes}) + target\\_\\epsilon $$\n",
    "\n",
    "where:\n",
    "- $target\\_\\epsilon$ is the lower bound $\\epsilon$ value. It was set to 0.2.\n",
    "- $i$ is the current iteration\n",
    "- $num\\_episodes$ is the number of episodes\n",
    "\n",
    "Note that $\\epsilon$ is decaying over time, but that exploration will always happen, thanks to $target\\_\\epsilon$ being 0.2. This satisfies the necessary conditions for the GLIE learning policy.\n",
    "\n",
    "For the last 5\\%, $\\epsilon$ was set to 0. This allowed us to evaluate how well the Q-Function had trained so far. The plot below shows the value of Epsilon over time.\n",
    "\n",
    "[original code]: https://gist.github.com/Sathishruw/d609e358b61268cdf891cc93e15e5f63\n",
    "[ak github]: https://github.com/redpanda-ai\n",
    "[openai-gym-envs]: https://gym.openai.com/envs/\n",
    "[openai-gym-taxi-v2]: https://gym.openai.com/envs/Taxi-v2/\n",
    "[openai-gym-frozenlake-v0]: https://gym.openai.com/envs/FrozenLake-v0/\n",
    "[colab-link]: https://colab.research.google.com/drive/1yw9BhzEtH6ZN9siUJqiNlwzX0_c35LL_\n",
    "[wiki-monte-carlo]: https://en.wikipedia.org/wiki/Monte_Carlo_method"
   ]
  },
  {
   "cell_type": "code",
   "execution_count": 1,
   "metadata": {
    "scrolled": true
   },
   "outputs": [
    {
     "data": {
      "image/png": "[encoded data removed]",
      "text/plain": [
       "<Figure size 432x288 with 1 Axes>"
      ]
     },
     "metadata": {
      "needs_background": "light"
     },
     "output_type": "display_data"
    }
   ],
   "source": [
    "# Import for plots\n",
    "import matplotlib.pyplot as plt\n",
    "%matplotlib inline\n",
    "\n",
    "# Plot Epsilon\n",
    "num_episodes = 10000\n",
    "target_epsilon = 0.2\n",
    "\n",
    "def calculate_epsilon(i, num_episodes, target_epsilon):\n",
    "    if i > num_episodes * 0.94:\n",
    "        return 0.0\n",
    "    else:\n",
    "        return 0.3 * (1 - (i / num_episodes)) + target_epsilon\n",
    "\n",
    "iterations = [i for i in range(num_episodes + 1)]\n",
    "epsilons = [calculate_epsilon(i, num_episodes, target_epsilon)\n",
    "           for i in range(num_episodes + 1)]\n",
    "\n",
    "plt.plot(iterations, epsilons)\n",
    "plt.title('Epsilon over Time')\n",
    "plt.ylabel('Epsilon')\n",
    "plt.xlabel('Iterations')\n",
    "plt.show()"
   ]
  },
  {
   "cell_type": "markdown",
   "metadata": {},
   "source": [
    "## Resources\n",
    "- [David Silver's Control Slides](http://www0.cs.ucl.ac.uk/staff/d.silver/web/Teaching_files/control.pdf)\n",
    "- [Nahum Shimkin's course: Chapter 7 Efficient Exploration](http://webee.technion.ac.il/shimkin/LCS11/ch7_exploration.pdf)\n",
    "- [Sathishruw's Gist - Monte Carlo GLIE Python Implementation](https://gist.github.com/Sathishruw/d609e358b61268cdf891cc93e15e5f63)\n",
    "- [Ray's Blog - Reinforcement Learning - Monte Carlo](https://oneraynyday.github.io/ml/2018/05/24/Reinforcement-Learning-Monte-Carlo/)\n",
    "- [Krisztian Kovacs Blog: Exploration vs Exploitation](https://krisztiankovacs.com/rl-notes-3-exporation-vs-exploitation/)"
   ]
  },
  {
   "cell_type": "markdown",
   "metadata": {},
   "source": [
    "---"
   ]
  },
  {
   "cell_type": "markdown",
   "metadata": {},
   "source": [
    "# Project Extension Ideas\n",
    "\n",
    "- Test with different parameters\n",
    "- Have an agent interact in an environment with a trained Q-Function."
   ]
  }
 ],
 "metadata": {
  "kernelspec": {
   "display_name": "Python [default]",
   "language": "python",
   "name": "python3"
  },
  "language_info": {
   "codemirror_mode": {
    "name": "ipython",
    "version": 3
   },
   "file_extension": ".py",
   "mimetype": "text/x-python",
   "name": "python",
   "nbconvert_exporter": "python",
   "pygments_lexer": "ipython3",
   "version": "3.6.6"
  },
  "toc": {
   "base_numbering": 1,
   "nav_menu": {},
   "number_sections": true,
   "sideBar": true,
   "skip_h1_title": false,
   "title_cell": "Table of Contents",
   "title_sidebar": "Contents",
   "toc_cell": false,
   "toc_position": {},
   "toc_section_display": true,
   "toc_window_display": false
  }
 },
 "nbformat": 4,
 "nbformat_minor": 2
}
