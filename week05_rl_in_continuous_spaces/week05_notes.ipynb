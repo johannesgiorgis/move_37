{
 "cells": [
  {
   "cell_type": "markdown",
   "metadata": {},
   "source": [
    "# Week 05 Notes - RL in Continuous Spaces <a class=\"tocSkip\">"
   ]
  },
  {
   "cell_type": "markdown",
   "metadata": {
    "toc": true
   },
   "source": [
    "<h1>Table of Contents<span class=\"tocSkip\"></span></h1>\n",
    "<div class=\"toc\"><ul class=\"toc-item\"><li><span><a href=\"#Inverse-and-Forward-Kinematics\" data-toc-modified-id=\"Inverse-and-Forward-Kinematics-1\">Inverse and Forward Kinematics</a></span><ul class=\"toc-item\"><li><span><a href=\"#Notes\" data-toc-modified-id=\"Notes-1.1\">Notes</a></span></li><li><span><a href=\"#Learning-Resources\" data-toc-modified-id=\"Learning-Resources-1.2\">Learning Resources</a></span></li></ul></li><li><span><a href=\"#Augmented-Random-Search-Tutorial-(Teach-a-Robot-to-Walk)\" data-toc-modified-id=\"Augmented-Random-Search-Tutorial-(Teach-a-Robot-to-Walk)-2\">Augmented Random Search Tutorial (Teach a Robot to Walk)</a></span><ul class=\"toc-item\"><li><span><a href=\"#Notes\" data-toc-modified-id=\"Notes-2.1\">Notes</a></span></li><li><span><a href=\"#Learning-Resources\" data-toc-modified-id=\"Learning-Resources-2.2\">Learning Resources</a></span></li></ul></li><li><span><a href=\"#Midterm-Assignment-(Make-a-Bipedal-Robot-Walk)\" data-toc-modified-id=\"Midterm-Assignment-(Make-a-Bipedal-Robot-Walk)-3\">Midterm Assignment (Make a Bipedal Robot Walk)</a></span></li><li><span><a href=\"#Inverse-Kinematics\" data-toc-modified-id=\"Inverse-Kinematics-4\">Inverse Kinematics</a></span></li><li><span><a href=\"#Kalman-Filters\" data-toc-modified-id=\"Kalman-Filters-5\">Kalman Filters</a></span></li><li><span><a href=\"#Continuous-Action-Space---Study-Guide\" data-toc-modified-id=\"Continuous-Action-Space---Study-Guide-6\">Continuous Action Space - Study Guide</a></span></li><li><span><a href=\"#Continuous-Action-Space-Quiz\" data-toc-modified-id=\"Continuous-Action-Space-Quiz-7\">Continuous Action Space Quiz</a></span></li><li><span><a href=\"#Quantum-Machine-Learning-(Livestream)\" data-toc-modified-id=\"Quantum-Machine-Learning-(Livestream)-8\">Quantum Machine Learning (Livestream)</a></span></li></ul></div>"
   ]
  },
  {
   "cell_type": "markdown",
   "metadata": {},
   "source": [
    "## Inverse and Forward Kinematics\n",
    "\n",
    "**Video Description**:\n",
    "\n",
    "Robotics is a vast field of study, encompassing theories across multiple scientific disciplines. In this video, we'll program a robotic arm in a simulated environment to pick up an object. Along the way, we'll learn about both forward and inverse kinematics. We'll optimize our arms trajectory using calculus and observe how its angles change over time, measuring them with trigonometry. We'll code this in Python, this is an example of machine learning applied to robotic manipulation. Enjoy! \n",
    "\n",
    "\n",
    "### Notes\n",
    "\n",
    "- Kinematics is the branch of Classical Mechanics that describes the motion of points, objects and systems with groups of objects without reference to the causes of motion\n",
    "\n",
    "We can summarize the behavior of our system in two equations:\n",
    "\n",
    "- **Rotation**: The global rotation $r_i$ of a joint is the sum of all the rotations of all the previous joints:\n",
    "\n",
    "$$ r_i = \\sum_{k=0}^{i} \\alpha_{k} \\\\ $$\n",
    "\n",
    "- **Position**: The global position $P_i$ of a joing is given by:\n",
    "\n",
    "$$ P_i = P_{i-1} + rotate(\\ D_i, P_{i-1}, \\sum_{k=0}^{i-1} \\alpha_{k}\\ ) \\\\ $$\n",
    "\n",
    "\n",
    "### Learning Resources\n",
    "\n",
    "- [Youtube Video: Robotic Manipulation Explained](https://www.youtube.com/watch?v=mCI-f71MAvY)\n",
    "- [Code Link: Robotic Manipulation](https://github.com/llSourcell/Robotic_Manipulation)\n",
    "- [Robotiq Blog: How to Calculate a Robot's Forward Kinematics in 5 Easy Steps](https://blog.robotiq.com/how-to-calculate-a-robots-forward-kinematics-in-5-easy-steps)\n",
    "- [MIT Course 6.141 Lecture Notes: Forward and Inverse Kinematics](http://courses.csail.mit.edu/6.141/spring2011/pub/lectures/Lec14-Manipulation-II.pdf)\n",
    "- [Blog: The Mathematics of Forward Kinematics](https://www.alanzucconi.com/2017/04/06/forward-kinematics/)\n",
    "- [Applied Go: Inverse Kinematics](https://appliedgo.net/roboticarm/)\n",
    "- [Lecture Notes: Robot Manipulator Kinematics](http://www.ent.mrt.ac.lk/~rohan/teaching/ME5144/LectureNotes/Lec%205%20Kinematics.pdf)"
   ]
  },
  {
   "cell_type": "markdown",
   "metadata": {},
   "source": [
    "## Augmented Random Search Tutorial (Teach a Robot to Walk)\n",
    "\n",
    "**Video Description**:\n",
    "\n",
    "Learn one of the most advanced reinforcement learning algorithms to emerge in 2018, which has advanced the field of robotics by leaps and bounds, Augmented Random Search. Follow along with the coding tutorial and teach your own robot how to walk in less than an hour!\n",
    "\n",
    "\n",
    "### Notes\n",
    "\n",
    "**Augmented Random Search**:\n",
    "\n",
    "- Shallow learning algorithm\n",
    "- Random noise\n",
    "- Genetic evolution\n",
    "- Cutting edge performance on locomotion tasks\n",
    "\n",
    "**How it works (simplified)**:\n",
    "\n",
    "1. Add random noise($\\delta$) to the weights ($\\theta$)\n",
    "2. Run a test\n",
    "3. If the reward improves, keep the new weights\n",
    "4. Otherwise discard\n",
    "\n",
    "Instead of gradient descent, we use a much simpler algorithm called the Method of Finite Differences to calculate updates to our weights.\n",
    "\n",
    "**Method of Finite Differences**:\n",
    "\n",
    "1. Generate random noise ($\\delta$) of the same shape as the weights ($\\theta$)\n",
    "2. Clone two versions of our current weights\n",
    "3. Add the noise to $\\theta{[+]}$, subtract from $\\theta{[-]}$\n",
    "4. Test out both versions one episode each, collect $r[+]$, $r[-]$\n",
    "5. Update the weights with: $ \\theta\\ += \\alpha\\ (\\ r[+] - r[-]\\ ) * \\delta $\n",
    "6. Test and repeat for maximum performance\n",
    "\n",
    "This algorithm works best if all inputs are squeezed between 0 and 1. This is called normalizing. We do this with a standard normalization algorithm\n",
    "\n",
    "**Normalize the Inputs**:\n",
    "\n",
    "- Normalized = (Inputs - Observation_mean)/ Observation_sigma\n",
    "- To track the mean, we keep a running average:\n",
    "    - mean = last_mean + (observation - last_mean) / num_observations\n",
    "\n",
    "**Training Loop**:\n",
    "\n",
    "1. Generate num_deltas deltas and evaluate positive and negative\n",
    "2. Run num_deltas episodes with positive and negative variations\n",
    "3. Collect rollouts as $(r[+], r[-], \\delta)$ tuples\n",
    "4. Calculate the standard deviation of all rewards (sigma_rewards)\n",
    "5. Sort the rollouts by maximum reward and select the best num_best_deltas rollouts\n",
    "6. $ step = sum(\\ (\\ r[+] - r[-]\\ )\\ * \\delta\\ ) $ for each best rollout\n",
    "7. theta += learning_rate / (num_best_deltas * sigma_rewards) * step\n",
    "8. Evaluate: play an episode with the new weights to measure improvement\n",
    "9. Continue until the desired performance is reached\n",
    "\n",
    "**Dependencies**:\n",
    "\n",
    "- OpenAI Gym (```pip install gym```)\n",
    "- Box2d (```pip install box2d```)\n",
    "- PyBullet environments (```pip install pybullet```) [optional]\n",
    "\n",
    "**Things to Try**:\n",
    "\n",
    "- Try to code this yourself!\n",
    "- Play around with the hyper-parameters\n",
    "- Try other environments (PyBullet Half Cheetah, Lunar Lander Continuous)\n",
    "- What other tasks does ARS get good results on?\n",
    "- One way to make this faster is to employ multi-processing to utilize more than one CPU core to run several episodes in parallel\n",
    "\n",
    "\n",
    "### Learning Resources\n",
    "\n",
    "- [Youtube Video: Augmented Random Search Tutorial - How to Train Robots to Walk!](https://www.youtube.com/watch?time_continue=1&v=2P2Dj5PX5cg)\n",
    "- [Code Link: ARS](https://github.com/colinskow/move37/tree/master/ars)\n",
    "- [Original Research Paper](https://arxiv.org/abs/1803.07055)\n",
    "- [MathisFun: Dot Product Tutorial](https://www.mathsisfun.com/algebra/matrix-multiplying.html)\n",
    "- [MathisFun: Standard Deviation Tutorial](https://www.mathsisfun.com/data/standard-deviation.html)\n",
    "- [Github: ARRS with multiprocessing](https://github.com/modestyachts/ARS)"
   ]
  },
  {
   "cell_type": "markdown",
   "metadata": {},
   "source": [
    "## Midterm Assignment (Make a Bipedal Robot Walk)"
   ]
  },
  {
   "cell_type": "markdown",
   "metadata": {},
   "source": [
    "## Inverse Kinematics"
   ]
  },
  {
   "cell_type": "markdown",
   "metadata": {},
   "source": [
    "## Kalman Filters"
   ]
  },
  {
   "cell_type": "markdown",
   "metadata": {},
   "source": [
    "## Continuous Action Space - Study Guide"
   ]
  },
  {
   "cell_type": "markdown",
   "metadata": {},
   "source": [
    "## Continuous Action Space Quiz"
   ]
  },
  {
   "cell_type": "markdown",
   "metadata": {},
   "source": [
    "## Quantum Machine Learning (Livestream)"
   ]
  }
 ],
 "metadata": {
  "kernelspec": {
   "display_name": "Python [default]",
   "language": "python",
   "name": "python3"
  },
  "language_info": {
   "codemirror_mode": {
    "name": "ipython",
    "version": 3
   },
   "file_extension": ".py",
   "mimetype": "text/x-python",
   "name": "python",
   "nbconvert_exporter": "python",
   "pygments_lexer": "ipython3",
   "version": "3.6.6"
  },
  "toc": {
   "base_numbering": 1,
   "nav_menu": {},
   "number_sections": false,
   "sideBar": true,
   "skip_h1_title": false,
   "title_cell": "Table of Contents",
   "title_sidebar": "Contents",
   "toc_cell": true,
   "toc_position": {},
   "toc_section_display": true,
   "toc_window_display": false
  }
 },
 "nbformat": 4,
 "nbformat_minor": 2
}
