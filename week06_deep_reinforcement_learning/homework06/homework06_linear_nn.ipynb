{
 "cells": [
  {
   "cell_type": "markdown",
   "metadata": {},
   "source": [
    "# Homework Assignment 6: Deep Q Learning <a class=\"tocSkip\">\n",
    "\n",
    "This weeks homework assignment is build a deep q network to defeat the [Lunar Lander](https://gym.openai.com/envs/LunarLander-v2/) environment in OpenAI’s Gym environment. Use this [repository](https://github.com/AndersonJo/dqn-pytorch) as a helpful guide. Train it and test it, if your algorithm successfully learns how to beat the environment, you’ve successfully completed the assignment. Good luck!"
   ]
  },
  {
   "cell_type": "markdown",
   "metadata": {
    "toc": true
   },
   "source": [
    "<h1>Table of Contents<span class=\"tocSkip\"></span></h1>\n",
    "<div class=\"toc\"><ul class=\"toc-item\"><li><span><a href=\"#Exercise\" data-toc-modified-id=\"Exercise-1\">Exercise</a></span><ul class=\"toc-item\"><li><ul class=\"toc-item\"><li><span><a href=\"#Network-design\" data-toc-modified-id=\"Network-design-1.0.1\">Network design</a></span></li><li><span><a href=\"#Agent-Design\" data-toc-modified-id=\"Agent-Design-1.0.2\">Agent Design</a></span></li><li><span><a href=\"#Construct-evaluate\" data-toc-modified-id=\"Construct-evaluate-1.0.3\">Construct evaluate</a></span></li><li><span><a href=\"#Experience-Replay\" data-toc-modified-id=\"Experience-Replay-1.0.4\">Experience Replay</a></span></li><li><span><a href=\"#Learning-with...-Q-learning\" data-toc-modified-id=\"Learning-with...-Q-learning-1.0.5\">Learning with... Q-learning</a></span></li><li><span><a href=\"#Main-Loop\" data-toc-modified-id=\"Main-Loop-1.0.6\">Main Loop</a></span></li><li><span><a href=\"#Continuing-with-CPU\" data-toc-modified-id=\"Continuing-with-CPU-1.0.7\">Continuing with CPU</a></span></li></ul></li></ul></li><li><span><a href=\"#Research\" data-toc-modified-id=\"Research-2\">Research</a></span></li><li><span><a href=\"#Big-Questions\" data-toc-modified-id=\"Big-Questions-3\">Big Questions</a></span></li><li><span><a href=\"#Resources\" data-toc-modified-id=\"Resources-4\">Resources</a></span></li></ul></div>"
   ]
  },
  {
   "cell_type": "markdown",
   "metadata": {},
   "source": [
    "# Exercise\n",
    "\n",
    "This version utilizes a Linear Neural Network."
   ]
  },
  {
   "cell_type": "code",
   "execution_count": 1,
   "metadata": {},
   "outputs": [],
   "source": [
    "# imports\n",
    "import gym\n",
    "import numpy as np\n",
    "import pandas as pd\n",
    "import matplotlib.pyplot as plt\n",
    "import os\n",
    "%matplotlib inline\n",
    "\n",
    "import torch\n",
    "torch.set_default_tensor_type('torch.cuda.FloatTensor')\n",
    "\n",
    "import torch.nn as nn\n",
    "import torch.nn.functional as F\n",
    "\n",
    "USE_CPU = False # can be True or False\n",
    "GPU = 1 # can be 0 or 1\n",
    "   "
   ]
  },
  {
   "cell_type": "code",
   "execution_count": 2,
   "metadata": {},
   "outputs": [
    {
     "name": "stdout",
     "output_type": "stream",
     "text": [
      "\u001b[33mWARN: gym.spaces.Box autodetected dtype as <class 'numpy.float32'>. Please provide explicit dtype.\u001b[0m\n"
     ]
    },
    {
     "data": {
      "text/plain": [
       "<matplotlib.image.AxesImage at 0x7f18701bd2e8>"
      ]
     },
     "execution_count": 2,
     "metadata": {},
     "output_type": "execute_result"
    },
    {
     "data": {
      "image/png": "[encoded data removed]",
      "text/plain": [
       "<Figure size 432x288 with 1 Axes>"
      ]
     },
     "metadata": {
      "needs_background": "light"
     },
     "output_type": "display_data"
    }
   ],
   "source": [
    "env = gym.make(\"LunarLander-v2\")\n",
    "env.reset()\n",
    "img = env.render(mode='rgb_array')\n",
    "env.close()\n",
    "plt.imshow(img)"
   ]
  },
  {
   "cell_type": "markdown",
   "metadata": {},
   "source": [
    "### Network design\n",
    "\n",
    "1. the data within the model will move through the layers\n",
    "2. the \"forward\" method will pull our 'x' through the layers and then apply ReLU functions to keep our values positive\n",
    "3. $ input (x) -> layer_1 -> ReLU -> layer_2 -> ReLU -> output $"
   ]
  },
  {
   "cell_type": "code",
   "execution_count": 3,
   "metadata": {},
   "outputs": [],
   "source": [
    "class DQNModel(nn.Module):\n",
    "    \n",
    "    def __init__(self, input_size, output_size):\n",
    "        super(DQNModel, self).__init__()\n",
    "        self.layer1 = nn.Linear(input_size, 64)\n",
    "        self.layer2 = nn.Linear(64,128)\n",
    "        self.output = nn.Linear(128, output_size)\n",
    "    \n",
    "    def forward(self, x):\n",
    "        x = x.float() # matmul requires tensors of type float\n",
    "        #if torch.cuda.is_available() and not USE_CPU:\n",
    "            #print(\"You should not see this!\")\n",
    "        #    x  = x.cuda(device=GPU) #use .cuda() since we are using a GPU\n",
    "        #else:\n",
    "            #print(\"You should see this.\")\n",
    "            #print(f\"type(x): {type(x)}, x: {x}\")\n",
    "        x = self.layer1(x)\n",
    "        x = F.relu(x)\n",
    "        x = F.relu(self.layer2(x))\n",
    "        return self.output(x)"
   ]
  },
  {
   "cell_type": "markdown",
   "metadata": {},
   "source": [
    "### Agent Design\n",
    "\n",
    "    "
   ]
  },
  {
   "cell_type": "code",
   "execution_count": 4,
   "metadata": {},
   "outputs": [],
   "source": [
    "\n",
    "class DQNAgent:\n",
    "    def __init__(self, state_shape, n_actions, model, epsilon=0):\n",
    "        \"\"\"Doc-string\"\"\"\n",
    "        self.epsilon = epsilon\n",
    "        self.n_actions = n_actions\n",
    "        self.state_shape = state_shape\n",
    "        self.model = model #can accept different models\n",
    "        \n",
    "    def get_q_values(self, state):\n",
    "        \"\"\"\n",
    "        state: observation from gym environment\n",
    "        pytorch needs [batch, s], so add a batch dim in state\n",
    "        \"\"\"\n",
    "        \n",
    "        if torch.cuda.is_available() and not USE_CPU:\n",
    "            device = torch.device(f\"cuda:{GPU}\")\n",
    "        else:\n",
    "            device = torch.device(\"cpu\")\n",
    "            \n",
    "        expanded_state = np.expand_dims(state, axis=0)\n",
    "        s = torch.from_numpy(expanded_state).to(device)\n",
    "\n",
    "        with torch.no_grad():\n",
    "            q = self.model.forward(s)\n",
    "       \n",
    "        squeezed = torch.squeeze(q.data)\n",
    "\n",
    "        return squeezed\n",
    "    \n",
    "    def sample_action(self, q_values):\n",
    "        \"\"\"pick actions given q_values.  Uses epsilon-greedy exploration strategy\n",
    "        suppose self.epsilon = 0.5\n",
    "        suppose self.n_actions = 5\n",
    "        line 31: p = [0.1, 0.1, 0.1, 0.1, 0.1]\n",
    "        suppose q_values = [1.0, 2.0, 10.0, 3.0, 4.0]\n",
    "        then q_values.argmax(axis=-1) = 2 #counting from 0\n",
    "        then on line 32:\n",
    "        p[2] += (1 - self.epsilon) or p[2] += 0.5 or p[2] = 0.1 + 0.5 = 0.6\n",
    "        so now\n",
    "        p = [0.1, 0.1, 0.6, 0.1, 0.1]\n",
    "        \"\"\"       \n",
    "        p = np.ones(self.n_actions, dtype=np.float) * self.epsilon / self.n_actions\n",
    "        #p[q_values.argmax(axis=-1)] += 1 - self.epsilon\n",
    "        p[torch.argmax(q_values)] += 1 - self.epsilon\n",
    "        action = np.random.choice(n_actions, p=p)\n",
    "        return action\n",
    "\n",
    "        "
   ]
  },
  {
   "cell_type": "markdown",
   "metadata": {},
   "source": [
    "### Construct evaluate"
   ]
  },
  {
   "cell_type": "code",
   "execution_count": 5,
   "metadata": {},
   "outputs": [],
   "source": [
    "def evaluate(env, agent, n_games=1, greedy=True):\n",
    "    \"\"\"Plays n_games full games.  If greedy, picks actions as argmax(q_values).\n",
    "    Returns mean reward. \"\"\"\n",
    "    t_max = env.spec.timestep_limit or 10000 # maximum_timesteps\n",
    "    rewards = []\n",
    "    old_epsilon = agent.epsilon\n",
    "    if greedy:\n",
    "        agent.epsilon = 0.0 # take the best move according to q_values\n",
    "        \n",
    "    for _ in range(n_games):\n",
    "        s = env.reset()\n",
    "        # print(f\"type(s): {type(s)}\")\n",
    "        reward = 0\n",
    "        for _ in range(t_max):\n",
    "            q_values = agent.get_q_values(s)\n",
    "            action = agent.sample_action(q_values)\n",
    "            s, r, done, _ = env.step(action)\n",
    "            reward += r\n",
    "            if done: break\n",
    "                \n",
    "        rewards.append(reward)\n",
    "        \n",
    "    agent.epsilon = old_epsilon\n",
    "    \n",
    "    return np.mean(rewards) # we could also have just said mean(rewards)\n",
    "\n"
   ]
  },
  {
   "cell_type": "markdown",
   "metadata": {},
   "source": [
    "### Experience Replay\n",
    "\n",
    "**The interface:**\n",
    "\n",
    "- `exp_replay.push(state, action, reward, next_state, done)`\n",
    "    - saves (s, a, r, s', done) tuple into the buffer\n",
    "- `exp_replay.sample(batch_size)`\n",
    "    - returns observations, actions, rewards, next_observations, and is_done for batch_size random samples\n",
    "- `len(exp_replay)`\n",
    "    - returns number of elements stored in the replay buffer"
   ]
  },
  {
   "cell_type": "code",
   "execution_count": 6,
   "metadata": {},
   "outputs": [],
   "source": [
    "import random\n",
    "from collections import namedtuple\n",
    "\n",
    "Transition = namedtuple(\n",
    "    'Transition', ('state', 'action', 'reward', 'next_state', 'done'))\n",
    "\n",
    "class ReplayMemory(object):\n",
    "    \n",
    "    def __init__(self, capacity):\n",
    "        self.capacity = capacity\n",
    "        self.memory = []\n",
    "        self.position = 0\n",
    "        \n",
    "    def push(self, *args):\n",
    "        \"\"\"Saves a transition\"\"\"\n",
    "        if len(self.memory) < self.capacity:\n",
    "            self.memory.append(None)\n",
    "        self.memory[self.position] = Transition(*args)\n",
    "        self.position = (self.position + 1) % self.capacity\n",
    "        \n",
    "    def sample(self, batch_size):\n",
    "        return random.sample(self.memory, batch_size)\n",
    "    \n",
    "    def head(self):\n",
    "        return self.memory[-1]\n",
    "    \n",
    "    def __len__(self):\n",
    "        return len(self.memory)\n",
    "    \n",
    "            \n"
   ]
  },
  {
   "cell_type": "markdown",
   "metadata": {},
   "source": [
    "### Learning with... Q-learning"
   ]
  },
  {
   "cell_type": "code",
   "execution_count": 7,
   "metadata": {},
   "outputs": [],
   "source": [
    "def td_loss(target_net, policy_net, states, actions, rewards, next_states, is_dones, GAMMA=0.99):\n",
    "    device = None\n",
    "    if torch.cuda.is_available() and not USE_CPU: #if we want to use a GPU\n",
    "        device = GPU \n",
    "    else:\n",
    "        device = \"cpu\"\n",
    "    s_ = torch.as_tensor(states, device=device)\n",
    "    a_ = torch.as_tensor(actions, device=device)\n",
    "    r_ = torch.as_tensor(rewards, device=device)\n",
    "    # ns_ = torch.as_tensor(next_states, device=device)\n",
    "    d_ = torch.as_tensor(is_dones, device=device)\n",
    "    not_d_ = 1 - d_\n",
    "\n",
    "    #predict Q values\n",
    "    predict_q_ = policy_net(s_).gather(dim=1, index=a_.view(-1, 1)).squeeze()\n",
    "    \n",
    "    #predict Next Q Values with target network\n",
    "    with torch.no_grad():\n",
    "        predict_next_q_ = target_net(s_)\n",
    "        predict_v_ = torch.max(predict_next_q_, dim=1)[0] * not_d_\n",
    "        reference_q_ = r_ + GAMMA * predict_v_\n",
    "        \n",
    "    loss = F.mse_loss(predict_q_, reference_q_)\n",
    "    \n",
    "    return loss\n",
    "    "
   ]
  },
  {
   "cell_type": "markdown",
   "metadata": {},
   "source": [
    "### Main Loop\n",
    "\n",
    "Let's roll"
   ]
  },
  {
   "cell_type": "code",
   "execution_count": 8,
   "metadata": {},
   "outputs": [],
   "source": [
    "from tqdm import trange\n",
    "from IPython.display import clear_output\n",
    "import matplotlib.pyplot as plt\n",
    "%matplotlib inline\n",
    "\n",
    "mean_rw_history = []\n",
    "td_loss_history = []\n",
    "td_loss_m_history = []\n",
    "BATCH_SIZE = 64\n",
    "TIME_STEPS = 2*10**5\n",
    "LEARNING_RATE = 0.0001 #0.0001\n"
   ]
  },
  {
   "cell_type": "code",
   "execution_count": 9,
   "metadata": {},
   "outputs": [],
   "source": [
    "device = None\n",
    "if torch.cuda.is_available() and not USE_CPU:\n",
    "    device = torch.device(f\"cuda:{GPU}\")\n",
    "else:\n",
    "    device = torch.device(\"cpu\")\n",
    "    print(\"Using cpu device\")\n",
    "    \n",
    "\n",
    "state_dim, n_actions = env.observation_space.shape[0], env.action_space.n"
   ]
  },
  {
   "cell_type": "code",
   "execution_count": 10,
   "metadata": {},
   "outputs": [
    {
     "name": "stdout",
     "output_type": "stream",
     "text": [
      "cuda:1\n"
     ]
    }
   ],
   "source": [
    "print(device)\n",
    "policy_net = DQNModel(state_dim, n_actions).to(device)\n",
    "target_net = DQNModel(state_dim, n_actions).to(device)\n",
    "target_net.load_state_dict(policy_net.state_dict())\n",
    "agent = DQNAgent(state_dim, n_actions, policy_net, epsilon=0.5)\n",
    "exp_replay = ReplayMemory(10**4)"
   ]
  },
  {
   "cell_type": "code",
   "execution_count": 11,
   "metadata": {},
   "outputs": [
    {
     "data": {
      "text/plain": [
       "-435.58157918951656"
      ]
     },
     "execution_count": 11,
     "metadata": {},
     "output_type": "execute_result"
    }
   ],
   "source": [
    "evaluate(env, agent, n_games=3)"
   ]
  },
  {
   "cell_type": "markdown",
   "metadata": {},
   "source": [
    "### Continuing with CPU"
   ]
  },
  {
   "cell_type": "code",
   "execution_count": 12,
   "metadata": {},
   "outputs": [
    {
     "name": "stdout",
     "output_type": "stream",
     "text": [
      "buffer size = 10000, epsilon = 0.01\n"
     ]
    },
    {
     "data": {
      "image/png": "[encoded data removed]",
      "text/plain": [
       "<Figure size 864x288 with 2 Axes>"
      ]
     },
     "metadata": {
      "needs_background": "light"
     },
     "output_type": "display_data"
    },
    {
     "name": "stderr",
     "output_type": "stream",
     "text": [
      "100%|██████████| 200000/200000 [20:53<00:00, 159.52it/s]\n"
     ]
    }
   ],
   "source": [
    "optimizer = torch.optim.Adam(policy_net.parameters(),lr=LEARNING_RATE)\n",
    "\n",
    "#for training\n",
    "env = gym.make(\"LunarLander-v2\")\n",
    "#for evaluation\n",
    "eval_env = gym.make(\"LunarLander-v2\")\n",
    "s = env.reset()\n",
    "\n",
    "for i in trange(TIME_STEPS):\n",
    "    # play\n",
    "    q_values = agent.get_q_values(s)\n",
    "    a = agent.sample_action(q_values)\n",
    "    s_next, r, done, _ = env.step(a)\n",
    "    \n",
    "    exp_replay.push(s, a, r, s_next, done)\n",
    "    \n",
    "    s = s_next\n",
    "    \n",
    "    if done:\n",
    "        s = env.reset()\n",
    "        \n",
    "    if len(exp_replay) < BATCH_SIZE:\n",
    "        continue\n",
    "        \n",
    "    # train\n",
    "    # < sample data from experience replay >\n",
    "    transitions = exp_replay.sample(BATCH_SIZE)\n",
    "    # transpose the batch\n",
    "    batch = Transition(*zip(*transitions))\n",
    "    \n",
    "    # loss = < compute TD loss >\n",
    "    nd_states = np.array(batch.state, dtype=np.float32)\n",
    "    nd_actions = np.array(batch.action, dtype=np.int64)\n",
    "    nd_rewards = np.array(batch.reward, dtype=np.float32)\n",
    "    nd_next_states = np.array(batch.next_state, dtype=np.float32)\n",
    "    nd_is_dones = np.array(batch.done).astype(np.float32)\n",
    "    \n",
    "    loss = td_loss(target_net, policy_net, nd_states, nd_actions, nd_rewards, nd_next_states, nd_is_dones)\n",
    "    \n",
    "    # <minimize loss by gradient descent>\n",
    "    optimizer.zero_grad()\n",
    "    loss.backward()\n",
    "    optimizer.step()\n",
    "  \n",
    "    loss_data = loss.data\n",
    "    if torch.cuda.is_available() and not USE_CPU:\n",
    "        loss_data = loss.data.cpu()\n",
    "\n",
    "    td_loss_history.append(loss_data.numpy())\n",
    "    count = min(len(td_loss_history), 100)\n",
    "    \n",
    "    td_loss_m_history.append(np.mean(td_loss_history[-count:]))\n",
    "  \n",
    "    # adjust agent parameters\n",
    "    if i % 500 == 0:\n",
    "        agent.epsilon = max(agent.epsilon * 0.99, 0.01)\n",
    "        \n",
    "        mean_rw_history.append(evaluate(eval_env, agent, n_games=3))\n",
    "    \n",
    "        #Load agent weights into target_network\n",
    "        target_net.load_state_dict(policy_net.state_dict())\n",
    "    \n",
    "        clear_output(True)\n",
    "        print(f\"buffer size = {len(exp_replay)}, epsilon = {agent.epsilon:2.5}\")\n",
    "        plt.figure(figsize=[12, 4])\n",
    "        plt.subplot(1, 2, 1)\n",
    "        plt.title(\"mean reward per game\")\n",
    "        plt.plot(mean_rw_history)\n",
    "        plt.grid()\n",
    "\n",
    "        plt.subplot(1, 2, 2)\n",
    "        plt.title(\"TD loss history (moving average)\")\n",
    "        plt.plot(td_loss_m_history)\n",
    "        plt.grid()\n",
    "        plt.show()"
   ]
  },
  {
   "cell_type": "markdown",
   "metadata": {},
   "source": [
    "# Research"
   ]
  },
  {
   "cell_type": "code",
   "execution_count": 13,
   "metadata": {},
   "outputs": [],
   "source": [
    "import torch"
   ]
  },
  {
   "cell_type": "code",
   "execution_count": 14,
   "metadata": {},
   "outputs": [
    {
     "data": {
      "text/plain": [
       "['ArgumentSpec',\n",
       " 'Block',\n",
       " 'ByteStorage',\n",
       " 'ByteTensor',\n",
       " 'CharStorage',\n",
       " 'CharTensor',\n",
       " 'Code',\n",
       " 'CudaByteStorageBase',\n",
       " 'CudaCharStorageBase',\n",
       " 'CudaDoubleStorageBase',\n",
       " 'CudaFloatStorageBase',\n",
       " 'CudaHalfStorageBase',\n",
       " 'CudaIntStorageBase',\n",
       " 'CudaLongStorageBase',\n",
       " 'CudaShortStorageBase',\n",
       " 'DoubleStorage',\n",
       " 'DoubleTensor',\n",
       " 'DynamicType',\n",
       " 'ExecutionPlanState',\n",
       " 'FatalError',\n",
       " 'FloatStorage',\n",
       " 'FloatTensor',\n",
       " 'Generator',\n",
       " 'Gradient',\n",
       " 'Graph',\n",
       " 'GraphExecutor',\n",
       " 'GraphExecutorState',\n",
       " 'HalfStorage',\n",
       " 'HalfStorageBase',\n",
       " 'HalfTensor',\n",
       " 'IODescriptor',\n",
       " 'IntStorage',\n",
       " 'IntTensor',\n",
       " 'LongStorage',\n",
       " 'LongTensor',\n",
       " 'Node',\n",
       " 'ScriptMethod',\n",
       " 'ScriptModule',\n",
       " 'ShortStorage',\n",
       " 'ShortTensor',\n",
       " 'Size',\n",
       " 'Storage',\n",
       " 'Tensor',\n",
       " 'TracingState',\n",
       " 'TupleType',\n",
       " 'Type',\n",
       " 'Use',\n",
       " 'Value',\n",
       " '_C',\n",
       " '_StorageBase',\n",
       " '__all__',\n",
       " '__and__',\n",
       " '__builtins__',\n",
       " '__cached__',\n",
       " '__class__',\n",
       " '__delattr__',\n",
       " '__dir__',\n",
       " '__doc__',\n",
       " '__eq__',\n",
       " '__file__',\n",
       " '__format__',\n",
       " '__ge__',\n",
       " '__getattribute__',\n",
       " '__gt__',\n",
       " '__hash__',\n",
       " '__init__',\n",
       " '__init_subclass__',\n",
       " '__le__',\n",
       " '__loader__',\n",
       " '__lshift__',\n",
       " '__lt__',\n",
       " '__name__',\n",
       " '__ne__',\n",
       " '__new__',\n",
       " '__or__',\n",
       " '__package__',\n",
       " '__path__',\n",
       " '__reduce__',\n",
       " '__reduce_ex__',\n",
       " '__repr__',\n",
       " '__rshift__',\n",
       " '__setattr__',\n",
       " '__sizeof__',\n",
       " '__spec__',\n",
       " '__str__',\n",
       " '__subclasshook__',\n",
       " '__version__',\n",
       " '__xor__',\n",
       " '_abs',\n",
       " '_acos',\n",
       " '_addmv',\n",
       " '_addr',\n",
       " '_argmax',\n",
       " '_argmin',\n",
       " '_asin',\n",
       " '_atan',\n",
       " '_cast_Byte',\n",
       " '_cast_Char',\n",
       " '_cast_Double',\n",
       " '_cast_Float',\n",
       " '_cast_Half',\n",
       " '_cast_Int',\n",
       " '_cast_Long',\n",
       " '_cast_Short',\n",
       " '_cat',\n",
       " '_ceil',\n",
       " '_convolution',\n",
       " '_convolution_nogroup',\n",
       " '_cos',\n",
       " '_cosh',\n",
       " '_cudnn_init_dropout_state',\n",
       " '_cudnn_rnn',\n",
       " '_cudnn_rnn_flatten_weight',\n",
       " '_cufft_clear_plan_cache',\n",
       " '_cufft_get_plan_cache_max_size',\n",
       " '_cufft_get_plan_cache_size',\n",
       " '_cufft_set_plan_cache_max_size',\n",
       " '_dim_arange',\n",
       " '_dirichlet_grad',\n",
       " '_dot',\n",
       " '_embedding_bag',\n",
       " '_erf',\n",
       " '_erfc',\n",
       " '_exp',\n",
       " '_expm1',\n",
       " '_fft_with_size',\n",
       " '_floor',\n",
       " '_ger',\n",
       " '_import_dotted_name',\n",
       " '_log',\n",
       " '_log10',\n",
       " '_log1p',\n",
       " '_log2',\n",
       " '_mm',\n",
       " '_mv',\n",
       " '_np',\n",
       " '_nvrtc',\n",
       " '_promote_types',\n",
       " '_round',\n",
       " '_rsqrt',\n",
       " '_s_where',\n",
       " '_sin',\n",
       " '_sinh',\n",
       " '_six',\n",
       " '_sparse_coo_tensor_unsafe',\n",
       " '_sqrt',\n",
       " '_standard_gamma',\n",
       " '_standard_gamma_grad',\n",
       " '_storage_classes',\n",
       " '_string_classes',\n",
       " '_tan',\n",
       " '_tensor_classes',\n",
       " '_tensor_str',\n",
       " '_thnn',\n",
       " '_trilinear',\n",
       " '_trunc',\n",
       " '_unique',\n",
       " '_utils',\n",
       " '_utils_internal',\n",
       " 'abs',\n",
       " 'abs_',\n",
       " 'acos',\n",
       " 'acos_',\n",
       " 'adaptive_avg_pool1d',\n",
       " 'adaptive_max_pool1d',\n",
       " 'add',\n",
       " 'addbmm',\n",
       " 'addcdiv',\n",
       " 'addcmul',\n",
       " 'addmm',\n",
       " 'addmv',\n",
       " 'addmv_',\n",
       " 'addr',\n",
       " 'all',\n",
       " 'allclose',\n",
       " 'any',\n",
       " 'arange',\n",
       " 'argmax',\n",
       " 'argmin',\n",
       " 'as_strided',\n",
       " 'as_strided_',\n",
       " 'as_tensor',\n",
       " 'asin',\n",
       " 'asin_',\n",
       " 'atan',\n",
       " 'atan2',\n",
       " 'atan_',\n",
       " 'autograd',\n",
       " 'avg_pool1d',\n",
       " 'backends',\n",
       " 'baddbmm',\n",
       " 'bartlett_window',\n",
       " 'batch_norm',\n",
       " 'bernoulli',\n",
       " 'bernoulli_',\n",
       " 'bilinear',\n",
       " 'bincount',\n",
       " 'blackman_window',\n",
       " 'bmm',\n",
       " 'btrifact',\n",
       " 'btrifact_with_info',\n",
       " 'btrisolve',\n",
       " 'btriunpack',\n",
       " 'cat',\n",
       " 'ceil',\n",
       " 'ceil_',\n",
       " 'chunk',\n",
       " 'clamp',\n",
       " 'clone',\n",
       " 'conv1d',\n",
       " 'conv2d',\n",
       " 'conv3d',\n",
       " 'conv_tbc',\n",
       " 'conv_transpose1d',\n",
       " 'conv_transpose2d',\n",
       " 'conv_transpose3d',\n",
       " 'convolution',\n",
       " 'cos',\n",
       " 'cos_',\n",
       " 'cosh',\n",
       " 'cosh_',\n",
       " 'cosine_embedding_loss',\n",
       " 'cross',\n",
       " 'cuda',\n",
       " 'cudnn_affine_grid_generator',\n",
       " 'cudnn_batch_norm',\n",
       " 'cudnn_convolution',\n",
       " 'cudnn_convolution_transpose',\n",
       " 'cudnn_grid_sampler',\n",
       " 'cudnn_is_acceptable',\n",
       " 'cumprod',\n",
       " 'cumsum',\n",
       " 'default_generator',\n",
       " 'det',\n",
       " 'device',\n",
       " 'diag',\n",
       " 'diagflat',\n",
       " 'diagonal',\n",
       " 'digamma',\n",
       " 'dist',\n",
       " 'distributed',\n",
       " 'distributions',\n",
       " 'div',\n",
       " 'dot',\n",
       " 'double',\n",
       " 'dsmm',\n",
       " 'dtype',\n",
       " 'eig',\n",
       " 'einsum',\n",
       " 'embedding',\n",
       " 'embedding_bag',\n",
       " 'embedding_renorm_',\n",
       " 'empty',\n",
       " 'empty_like',\n",
       " 'enable_grad',\n",
       " 'eq',\n",
       " 'equal',\n",
       " 'erf',\n",
       " 'erf_',\n",
       " 'erfc',\n",
       " 'erfc_',\n",
       " 'erfinv',\n",
       " 'exp',\n",
       " 'exp_',\n",
       " 'expm1',\n",
       " 'expm1_',\n",
       " 'eye',\n",
       " 'fft',\n",
       " 'fill_',\n",
       " 'flatten',\n",
       " 'flip',\n",
       " 'float',\n",
       " 'float16',\n",
       " 'float32',\n",
       " 'float64',\n",
       " 'floor',\n",
       " 'floor_',\n",
       " 'fmod',\n",
       " 'frac',\n",
       " 'from_numpy',\n",
       " 'full',\n",
       " 'full_like',\n",
       " 'functional',\n",
       " 'gather',\n",
       " 'ge',\n",
       " 'gels',\n",
       " 'geqrf',\n",
       " 'ger',\n",
       " 'gesv',\n",
       " 'get_default_dtype',\n",
       " 'get_device',\n",
       " 'get_file_path',\n",
       " 'get_num_threads',\n",
       " 'get_rng_state',\n",
       " 'grid_sampler',\n",
       " 'group_norm',\n",
       " 'gt',\n",
       " 'half',\n",
       " 'hamming_window',\n",
       " 'hann_window',\n",
       " 'hardshrink',\n",
       " 'has_cudnn',\n",
       " 'has_mkl',\n",
       " 'hinge_embedding_loss',\n",
       " 'histc',\n",
       " 'hsmm',\n",
       " 'hspmm',\n",
       " 'ifft',\n",
       " 'index_put',\n",
       " 'index_put_',\n",
       " 'index_select',\n",
       " 'initial_seed',\n",
       " 'int',\n",
       " 'int16',\n",
       " 'int32',\n",
       " 'int64',\n",
       " 'int8',\n",
       " 'inverse',\n",
       " 'irfft',\n",
       " 'is_anomaly_enabled',\n",
       " 'is_distributed',\n",
       " 'is_floating_point',\n",
       " 'is_grad_enabled',\n",
       " 'is_nonzero',\n",
       " 'is_same_size',\n",
       " 'is_signed',\n",
       " 'is_storage',\n",
       " 'is_tensor',\n",
       " 'isclose',\n",
       " 'isfinite',\n",
       " 'isinf',\n",
       " 'isnan',\n",
       " 'jit',\n",
       " 'kthvalue',\n",
       " 'layer_norm',\n",
       " 'layout',\n",
       " 'le',\n",
       " 'lerp',\n",
       " 'lgamma',\n",
       " 'linspace',\n",
       " 'load',\n",
       " 'log',\n",
       " 'log10',\n",
       " 'log10_',\n",
       " 'log1p',\n",
       " 'log1p_',\n",
       " 'log2',\n",
       " 'log2_',\n",
       " 'log_',\n",
       " 'log_softmax',\n",
       " 'log_softmax_backward_data',\n",
       " 'logdet',\n",
       " 'logspace',\n",
       " 'logsumexp',\n",
       " 'long',\n",
       " 'lt',\n",
       " 'manual_seed',\n",
       " 'margin_ranking_loss',\n",
       " 'masked_select',\n",
       " 'matmul',\n",
       " 'max',\n",
       " 'max_pool1d_with_indices',\n",
       " 'mean',\n",
       " 'median',\n",
       " 'meshgrid',\n",
       " 'min',\n",
       " 'mkldnn_convolution',\n",
       " 'mkldnn_convolution_backward_weights',\n",
       " 'mm',\n",
       " 'mode',\n",
       " 'mul',\n",
       " 'multinomial',\n",
       " 'multiprocessing',\n",
       " 'mv',\n",
       " 'name',\n",
       " 'narrow',\n",
       " 'native_clone',\n",
       " 'native_div',\n",
       " 'native_div_',\n",
       " 'native_get_device',\n",
       " 'native_mul',\n",
       " 'native_mul_',\n",
       " 'native_norm',\n",
       " 'native_pow',\n",
       " 'native_resize_as_',\n",
       " 'native_tensor',\n",
       " 'native_zero_',\n",
       " 'ne',\n",
       " 'neg',\n",
       " 'nn',\n",
       " 'no_grad',\n",
       " 'nonzero',\n",
       " 'norm',\n",
       " 'normal',\n",
       " 'numel',\n",
       " 'ones',\n",
       " 'ones_like',\n",
       " 'onnx',\n",
       " 'optim',\n",
       " 'orgqr',\n",
       " 'ormqr',\n",
       " 'os',\n",
       " 'pairwise_distance',\n",
       " 'pin_memory',\n",
       " 'pinverse',\n",
       " 'platform',\n",
       " 'poisson',\n",
       " 'polygamma',\n",
       " 'potrf',\n",
       " 'potri',\n",
       " 'potrs',\n",
       " 'pow',\n",
       " 'prepare_multiprocessing_environment',\n",
       " 'prod',\n",
       " 'pstrf',\n",
       " 'qr',\n",
       " 'rand',\n",
       " 'rand_like',\n",
       " 'randint',\n",
       " 'randint_like',\n",
       " 'randn',\n",
       " 'randn_like',\n",
       " 'random',\n",
       " 'randperm',\n",
       " 'range',\n",
       " 'raw_copy_sparse_',\n",
       " 'reciprocal',\n",
       " 'register_batch_operator',\n",
       " 'relu',\n",
       " 'relu_',\n",
       " 'remainder',\n",
       " 'renorm',\n",
       " 'reshape',\n",
       " 'resize_as_',\n",
       " 'rfft',\n",
       " 'round',\n",
       " 'round_',\n",
       " 'rrelu',\n",
       " 'rrelu_',\n",
       " 'rsqrt',\n",
       " 'rsqrt_',\n",
       " 's_native_add',\n",
       " 's_native_add_',\n",
       " 's_native_addmm',\n",
       " 's_native_addmm_',\n",
       " 's_native_mul',\n",
       " 's_native_mul_',\n",
       " 's_native_sub',\n",
       " 's_native_sub_',\n",
       " 'saddmm',\n",
       " 'save',\n",
       " 'select',\n",
       " 'selu',\n",
       " 'selu_',\n",
       " 'serialization',\n",
       " 'set_anomaly_enabled',\n",
       " 'set_default_dtype',\n",
       " 'set_default_tensor_type',\n",
       " 'set_flush_denormal',\n",
       " 'set_grad_enabled',\n",
       " 'set_num_threads',\n",
       " 'set_printoptions',\n",
       " 'set_rng_state',\n",
       " 'short',\n",
       " 'sigmoid',\n",
       " 'sigmoid_',\n",
       " 'sign',\n",
       " 'sin',\n",
       " 'sin_',\n",
       " 'sinh',\n",
       " 'sinh_',\n",
       " 'slogdet',\n",
       " 'smm',\n",
       " 'softmax',\n",
       " 'softmax_backward_data',\n",
       " 'sort',\n",
       " 'sparse',\n",
       " 'sparse_coo',\n",
       " 'sparse_coo_tensor',\n",
       " 'split',\n",
       " 'split_with_sizes',\n",
       " 'spmm',\n",
       " 'sqrt',\n",
       " 'sqrt_',\n",
       " 'squeeze',\n",
       " 'sspaddmm',\n",
       " 'stack',\n",
       " 'std',\n",
       " 'stft',\n",
       " 'storage',\n",
       " 'strided',\n",
       " 'sub',\n",
       " 'sum',\n",
       " 'svd',\n",
       " 'symeig',\n",
       " 'sys',\n",
       " 't',\n",
       " 'take',\n",
       " 'tan',\n",
       " 'tan_',\n",
       " 'tanh',\n",
       " 'tanh_',\n",
       " 'tensor',\n",
       " 'testing',\n",
       " 'th_add',\n",
       " 'th_add_',\n",
       " 'th_addmm',\n",
       " 'th_addmm_',\n",
       " 'th_clone',\n",
       " 'th_div',\n",
       " 'th_div_',\n",
       " 'th_mul',\n",
       " 'th_mul_',\n",
       " 'th_norm',\n",
       " 'th_pow',\n",
       " 'th_resize_as_',\n",
       " 'th_sub',\n",
       " 'th_sub_',\n",
       " 'th_zero_',\n",
       " 'to_batch_graph',\n",
       " 'topk',\n",
       " 'torch',\n",
       " 'trace',\n",
       " 'transpose',\n",
       " 'tril',\n",
       " 'triplet_margin_loss',\n",
       " 'triu',\n",
       " 'trtrs',\n",
       " 'trunc',\n",
       " 'trunc_',\n",
       " 'typename',\n",
       " 'uint8',\n",
       " 'unbind',\n",
       " 'unique',\n",
       " 'unsqueeze',\n",
       " 'utils',\n",
       " 'var',\n",
       " 'version',\n",
       " 'where',\n",
       " 'zero_',\n",
       " 'zeros',\n",
       " 'zeros_like']"
      ]
     },
     "execution_count": 14,
     "metadata": {},
     "output_type": "execute_result"
    }
   ],
   "source": [
    "dir(torch)"
   ]
  },
  {
   "cell_type": "code",
   "execution_count": 15,
   "metadata": {},
   "outputs": [
    {
     "name": "stdout",
     "output_type": "stream",
     "text": [
      "<class 'type'>\n"
     ]
    }
   ],
   "source": [
    "print(type(torch.device))"
   ]
  },
  {
   "cell_type": "code",
   "execution_count": 16,
   "metadata": {},
   "outputs": [
    {
     "data": {
      "text/plain": [
       "2"
      ]
     },
     "execution_count": 16,
     "metadata": {},
     "output_type": "execute_result"
    }
   ],
   "source": [
    "torch.cuda.device_count()"
   ]
  },
  {
   "cell_type": "code",
   "execution_count": 17,
   "metadata": {},
   "outputs": [
    {
     "data": {
      "text/plain": [
       "'GeForce GTX 1080 Ti'"
      ]
     },
     "execution_count": 17,
     "metadata": {},
     "output_type": "execute_result"
    }
   ],
   "source": [
    "torch.cuda.get_device_name(0)"
   ]
  },
  {
   "cell_type": "code",
   "execution_count": 18,
   "metadata": {},
   "outputs": [
    {
     "data": {
      "text/plain": [
       "'GeForce GTX 1080 Ti'"
      ]
     },
     "execution_count": 18,
     "metadata": {},
     "output_type": "execute_result"
    }
   ],
   "source": [
    "torch.cuda.get_device_name(1)"
   ]
  },
  {
   "cell_type": "code",
   "execution_count": 19,
   "metadata": {},
   "outputs": [],
   "source": [
    "device = torch.device(\"cuda:1\")"
   ]
  },
  {
   "cell_type": "code",
   "execution_count": 20,
   "metadata": {},
   "outputs": [
    {
     "name": "stdout",
     "output_type": "stream",
     "text": [
      "cuda:1\n"
     ]
    }
   ],
   "source": [
    "print(device)"
   ]
  },
  {
   "cell_type": "code",
   "execution_count": 21,
   "metadata": {},
   "outputs": [
    {
     "data": {
      "text/plain": [
       "True"
      ]
     },
     "execution_count": 21,
     "metadata": {},
     "output_type": "execute_result"
    }
   ],
   "source": [
    "torch.cuda.is_available()"
   ]
  },
  {
   "cell_type": "code",
   "execution_count": 22,
   "metadata": {},
   "outputs": [
    {
     "data": {
      "text/plain": [
       "<torch.cuda.device at 0x7f187008c4a8>"
      ]
     },
     "execution_count": 22,
     "metadata": {},
     "output_type": "execute_result"
    }
   ],
   "source": [
    "torch.cuda.device_ctx_manager(0)"
   ]
  },
  {
   "cell_type": "markdown",
   "metadata": {},
   "source": [
    "---"
   ]
  },
  {
   "cell_type": "markdown",
   "metadata": {},
   "source": [
    "# Big Questions\n",
    "\n",
    "1.  Are we copying data from cpu tensors to gpu tensors in our Model class?"
   ]
  },
  {
   "cell_type": "markdown",
   "metadata": {},
   "source": [
    "# Resources\n",
    "\n",
    "- [Github 1](https://github.com/etendue/move37/blob/master/dqn_box2d.ipynb)\n",
    "- [Github 2](https://github.com/johannesharmse/move_37_course/blob/master/src/dqn/lunar_land.py)"
   ]
  }
 ],
 "metadata": {
  "kernelspec": {
   "display_name": "Python [conda env:move_37]",
   "language": "python",
   "name": "conda-env-move_37-py"
  },
  "language_info": {
   "codemirror_mode": {
    "name": "ipython",
    "version": 3
   },
   "file_extension": ".py",
   "mimetype": "text/x-python",
   "name": "python",
   "nbconvert_exporter": "python",
   "pygments_lexer": "ipython3",
   "version": "3.6.6"
  },
  "toc": {
   "base_numbering": 1,
   "nav_menu": {},
   "number_sections": false,
   "sideBar": true,
   "skip_h1_title": false,
   "title_cell": "Table of Contents",
   "title_sidebar": "Contents",
   "toc_cell": true,
   "toc_position": {},
   "toc_section_display": true,
   "toc_window_display": false
  }
 },
 "nbformat": 4,
 "nbformat_minor": 2
}
