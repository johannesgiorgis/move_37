{
 "cells": [
  {
   "cell_type": "markdown",
   "metadata": {},
   "source": [
    "# Week 06 Notes - Deep Reinforcement Learning <a class=\"tocSkip\">"
   ]
  },
  {
   "cell_type": "markdown",
   "metadata": {
    "toc": true
   },
   "source": [
    "<h1>Table of Contents<span class=\"tocSkip\"></span></h1>\n",
    "<div class=\"toc\"><ul class=\"toc-item\"><li><span><a href=\"#Deep-RL-for-Database-Optimization\" data-toc-modified-id=\"Deep-RL-for-Database-Optimization-1\">Deep RL for Database Optimization</a></span><ul class=\"toc-item\"><li><span><a href=\"#Notes\" data-toc-modified-id=\"Notes-1.1\">Notes</a></span></li><li><span><a href=\"#Learning-Resources\" data-toc-modified-id=\"Learning-Resources-1.2\">Learning Resources</a></span></li></ul></li><li><span><a href=\"#Deep-Q-Learning-Pong-Tutorial\" data-toc-modified-id=\"Deep-Q-Learning-Pong-Tutorial-2\">Deep Q Learning Pong Tutorial</a></span><ul class=\"toc-item\"><li><span><a href=\"#Notes\" data-toc-modified-id=\"Notes-2.1\">Notes</a></span></li><li><span><a href=\"#Learning-Resources\" data-toc-modified-id=\"Learning-Resources-2.2\">Learning Resources</a></span></li></ul></li><li><span><a href=\"#Prioritized-Experience-Replay-(PER)\" data-toc-modified-id=\"Prioritized-Experience-Replay-(PER)-3\">Prioritized Experience Replay (PER)</a></span></li><li><span><a href=\"#Dueling-DQN\" data-toc-modified-id=\"Dueling-DQN-4\">Dueling DQN</a></span></li><li><span><a href=\"#Neural-Networks-Study-Guide\" data-toc-modified-id=\"Neural-Networks-Study-Guide-5\">Neural Networks Study Guide</a></span></li><li><span><a href=\"#Quiz:-Neural-Networks\" data-toc-modified-id=\"Quiz:-Neural-Networks-6\">Quiz: Neural Networks</a></span><ul class=\"toc-item\"><li><span><a href=\"#Question-1\" data-toc-modified-id=\"Question-1-6.1\">Question 1</a></span></li><li><span><a href=\"#Question-2\" data-toc-modified-id=\"Question-2-6.2\">Question 2</a></span></li><li><span><a href=\"#Question-3\" data-toc-modified-id=\"Question-3-6.3\">Question 3</a></span></li><li><span><a href=\"#Question-4\" data-toc-modified-id=\"Question-4-6.4\">Question 4</a></span></li><li><span><a href=\"#Question-5\" data-toc-modified-id=\"Question-5-6.5\">Question 5</a></span></li></ul></li><li><span><a href=\"#Reading-Assignments-(DQN-Improvements)\" data-toc-modified-id=\"Reading-Assignments-(DQN-Improvements)-7\">Reading Assignments (DQN Improvements)</a></span></li><li><span><a href=\"#Homework-Assignment:-Deep-Q-Learning\" data-toc-modified-id=\"Homework-Assignment:-Deep-Q-Learning-8\">Homework Assignment: Deep Q Learning</a></span></li></ul></div>"
   ]
  },
  {
   "cell_type": "markdown",
   "metadata": {},
   "source": [
    "## Deep RL for Database Optimization\n",
    "\n",
    "**Video Description**:\n",
    "\n",
    "\n",
    "### Notes\n",
    "\n",
    "\n",
    "### Learning Resources\n",
    "\n",
    "- [Youtube Video]()\n",
    "- []()\n",
    "- []()\n",
    "- []()\n",
    "- []()\n",
    "- []()\n",
    "- []()\n",
    "- []()"
   ]
  },
  {
   "cell_type": "markdown",
   "metadata": {},
   "source": [
    "## Deep Q Learning Pong Tutorial\n",
    "\n",
    "\n",
    "\n",
    "### Notes\n",
    "\n",
    "\n",
    "### Learning Resources\n",
    "\n",
    "- []()\n",
    "- []()\n",
    "- []()\n",
    "- []()\n",
    "- []()"
   ]
  },
  {
   "cell_type": "markdown",
   "metadata": {},
   "source": [
    "## Prioritized Experience Replay (PER)\n",
    "\n"
   ]
  },
  {
   "cell_type": "markdown",
   "metadata": {},
   "source": [
    "## Dueling DQN\n"
   ]
  },
  {
   "cell_type": "markdown",
   "metadata": {},
   "source": [
    "## Neural Networks Study Guide\n"
   ]
  },
  {
   "cell_type": "markdown",
   "metadata": {},
   "source": [
    "## Quiz: Neural Networks\n",
    "\n",
    "\n",
    "### Question 1\n",
    "\n",
    "\n",
    "- [] \n",
    "- [] \n",
    "- [] \n",
    "- [] \n",
    "- [] \n",
    "\n",
    "\n",
    "**Explanation**:\n",
    "\n",
    "\n",
    "\n",
    "### Question 2\n",
    "\n",
    "\n",
    "- [] \n",
    "- [] \n",
    "- [] \n",
    "- [] \n",
    "- [] \n",
    "\n",
    "\n",
    "**Explanation**:\n",
    "\n",
    "\n",
    "### Question 3\n",
    "\n",
    "\n",
    "- [] \n",
    "- [] \n",
    "- [] \n",
    "- [] \n",
    "- [] \n",
    "\n",
    "\n",
    "**Explanation**:\n",
    "\n",
    "\n",
    "\n",
    "### Question 4\n",
    "\n",
    "- [] \n",
    "- [] \n",
    "- [] \n",
    "- [] \n",
    "- [] \n",
    "\n",
    "\n",
    "**Explanation**:\n",
    "\n",
    "\n",
    "\n",
    "### Question 5\n",
    "\n",
    "\n",
    "\n",
    "- [] \n",
    "- [] \n",
    "- [] \n",
    "- [] \n",
    "- [] \n",
    "\n",
    "\n",
    "\n",
    "**Explanation**:\n",
    "\n"
   ]
  },
  {
   "cell_type": "markdown",
   "metadata": {},
   "source": [
    "## Reading Assignments (DQN Improvements)\n"
   ]
  },
  {
   "cell_type": "markdown",
   "metadata": {},
   "source": [
    "## Homework Assignment: Deep Q Learning\n"
   ]
  }
 ],
 "metadata": {
  "kernelspec": {
   "display_name": "Python [default]",
   "language": "python",
   "name": "python3"
  },
  "language_info": {
   "codemirror_mode": {
    "name": "ipython",
    "version": 3
   },
   "file_extension": ".py",
   "mimetype": "text/x-python",
   "name": "python",
   "nbconvert_exporter": "python",
   "pygments_lexer": "ipython3",
   "version": "3.6.6"
  },
  "toc": {
   "base_numbering": 1,
   "nav_menu": {},
   "number_sections": false,
   "sideBar": true,
   "skip_h1_title": false,
   "title_cell": "Table of Contents",
   "title_sidebar": "Contents",
   "toc_cell": true,
   "toc_position": {},
   "toc_section_display": true,
   "toc_window_display": false
  }
 },
 "nbformat": 4,
 "nbformat_minor": 2
}
