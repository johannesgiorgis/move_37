{
 "cells": [
  {
   "cell_type": "markdown",
   "metadata": {},
   "source": [
    "# Week 07 Notes - Policy Based Methods <a class=\"tocSkip\">"
   ]
  },
  {
   "cell_type": "markdown",
   "metadata": {
    "toc": true
   },
   "source": [
    "<h1>Table of Contents<span class=\"tocSkip\"></span></h1>\n",
    "<div class=\"toc\"><ul class=\"toc-item\"><li><span><a href=\"#Neuroevolution-Meta-Learning\" data-toc-modified-id=\"Neuroevolution-Meta-Learning-1\">Neuroevolution Meta-Learning</a></span></li><li><span><a href=\"#Policy-Search-Algorithms\" data-toc-modified-id=\"Policy-Search-Algorithms-2\">Policy Search Algorithms</a></span></li><li><span><a href=\"#Evolutionary-Algorithms-Study-Guide\" data-toc-modified-id=\"Evolutionary-Algorithms-Study-Guide-3\">Evolutionary Algorithms Study Guide</a></span></li><li><span><a href=\"#Evolutionary-Algorithms-Quiz\" data-toc-modified-id=\"Evolutionary-Algorithms-Quiz-4\">Evolutionary Algorithms Quiz</a></span><ul class=\"toc-item\"><li><ul class=\"toc-item\"><li><span><a href=\"#Question-1\" data-toc-modified-id=\"Question-1-4.0.1\">Question 1</a></span></li><li><span><a href=\"#Question-2\" data-toc-modified-id=\"Question-2-4.0.2\">Question 2</a></span></li><li><span><a href=\"#Question-3\" data-toc-modified-id=\"Question-3-4.0.3\">Question 3</a></span></li><li><span><a href=\"#Question-4\" data-toc-modified-id=\"Question-4-4.0.4\">Question 4</a></span></li><li><span><a href=\"#Question-5\" data-toc-modified-id=\"Question-5-4.0.5\">Question 5</a></span></li><li><span><a href=\"#Question-6\" data-toc-modified-id=\"Question-6-4.0.6\">Question 6</a></span></li><li><span><a href=\"#Question-7\" data-toc-modified-id=\"Question-7-4.0.7\">Question 7</a></span></li><li><span><a href=\"#Question-8\" data-toc-modified-id=\"Question-8-4.0.8\">Question 8</a></span></li><li><span><a href=\"#Question-9\" data-toc-modified-id=\"Question-9-4.0.9\">Question 9</a></span></li></ul></li></ul></li><li><span><a href=\"#Homework-Assignment-(Neuroevolution)\" data-toc-modified-id=\"Homework-Assignment-(Neuroevolution)-5\">Homework Assignment (Neuroevolution)</a></span></li><li><span><a href=\"#Control-Theory\" data-toc-modified-id=\"Control-Theory-6\">Control Theory</a></span></li></ul></div>"
   ]
  },
  {
   "cell_type": "markdown",
   "metadata": {},
   "source": [
    "# Neuroevolution Meta-Learning"
   ]
  },
  {
   "cell_type": "markdown",
   "metadata": {},
   "source": [
    "# Policy Search Algorithms"
   ]
  },
  {
   "cell_type": "markdown",
   "metadata": {},
   "source": [
    "# Evolutionary Algorithms Study Guide"
   ]
  },
  {
   "cell_type": "markdown",
   "metadata": {},
   "source": [
    "# Evolutionary Algorithms Quiz\n",
    "\n",
    "### Question 1\n",
    "\n",
    "Check all of the following which are true about logarithms.\n",
    "\n",
    "- []\n",
    "\n",
    "\n",
    "**Explanation**:\n",
    "\n",
    "\n",
    "### Question 2\n",
    "\n",
    "- [] \n",
    "\n",
    "**Explanation**:\n",
    "\n",
    "\n",
    "### Question 3\n",
    "\n",
    "- [] \n",
    "\n",
    "**Explanation**:\n",
    "\n",
    "\n",
    "### Question 4\n",
    "\n",
    "- [] \n",
    "\n",
    "**Explanation**:\n",
    "\n",
    "\n",
    "### Question 5\n",
    "\n",
    "- [] \n",
    "\n",
    "**Explanation**:\n",
    "\n",
    "\n",
    "### Question 6\n",
    "\n",
    "- [] \n",
    "\n",
    "**Explanation**:\n",
    "\n",
    "\n",
    "### Question 7\n",
    "\n",
    "- [] \n",
    "\n",
    "**Explanation**:\n",
    "\n",
    "\n",
    "### Question 8\n",
    "\n",
    "- [] \n",
    "\n",
    "**Explanation**:\n",
    "\n",
    "\n",
    "### Question 9\n",
    "\n",
    "- [] \n",
    "\n",
    "**Explanation**:\n",
    "\n"
   ]
  },
  {
   "cell_type": "markdown",
   "metadata": {},
   "source": [
    "# Homework Assignment (Neuroevolution)\n",
    "\n",
    "This weeks homework assignment is to design a neuro-evolution algorithm  that will learn how to optimally play any one of the OpenAI Gym environments. Here is an [example notebook](https://github.com/ikergarcia1996/NeuroEvolution-Flappy-Bird) to get started. If your agent can learn how to play the game using both neural networks and an evolutionary algorithm, you’ll successfully complete the assignment. Good luck!"
   ]
  },
  {
   "cell_type": "markdown",
   "metadata": {},
   "source": [
    "# Control Theory"
   ]
  }
 ],
 "metadata": {
  "kernelspec": {
   "display_name": "Python [default]",
   "language": "python",
   "name": "python3"
  },
  "language_info": {
   "codemirror_mode": {
    "name": "ipython",
    "version": 3
   },
   "file_extension": ".py",
   "mimetype": "text/x-python",
   "name": "python",
   "nbconvert_exporter": "python",
   "pygments_lexer": "ipython3",
   "version": "3.6.6"
  },
  "toc": {
   "base_numbering": 1,
   "nav_menu": {},
   "number_sections": false,
   "sideBar": true,
   "skip_h1_title": false,
   "title_cell": "Table of Contents",
   "title_sidebar": "Contents",
   "toc_cell": true,
   "toc_position": {},
   "toc_section_display": true,
   "toc_window_display": false
  }
 },
 "nbformat": 4,
 "nbformat_minor": 2
}
